{
 "cells": [
  {
   "cell_type": "code",
   "execution_count": 1,
   "id": "e1d96429",
   "metadata": {},
   "outputs": [],
   "source": [
    "import random\n",
    "from tqdm.notebook import tqdm\n",
    "import pandas as pd\n",
    "import numpy as np\n",
    "import matplotlib.pyplot as plt\n",
    "from collections import defaultdict\n",
    "\n",
    "%matplotlib inline\n",
    "%config InlineBackend.figure_format = 'retina'  # Higher resolution figures"
   ]
  },
  {
   "cell_type": "markdown",
   "id": "34346651",
   "metadata": {},
   "source": [
    "### Data, Evaluation"
   ]
  },
  {
   "cell_type": "code",
   "execution_count": 2,
   "id": "46bf7f07",
   "metadata": {},
   "outputs": [],
   "source": [
    "def readX(fp):\n",
    "    return pd.read_csv(fp).values"
   ]
  },
  {
   "cell_type": "code",
   "execution_count": 3,
   "id": "2fa17b1d",
   "metadata": {},
   "outputs": [],
   "source": [
    "# get labels\n",
    "train_y = readX('data/train_y.txt').flatten()\n",
    "val_y = readX('data/val_y.txt').flatten()"
   ]
  },
  {
   "cell_type": "code",
   "execution_count": 4,
   "id": "533fdfc6",
   "metadata": {},
   "outputs": [],
   "source": [
    "def accuracy(pred, y):\n",
    "    return np.mean(pred == y)\n",
    "\n",
    "def precision(pred, y):\n",
    "    tp = np.sum(((pred == 1) & (y == 1)) == 1)\n",
    "    fp = np.sum(((pred == 1) & (y == 0)) == 1)\n",
    "    \n",
    "    return tp / (tp + fp)\n",
    "\n",
    "def recall(pred, y):\n",
    "    tp = np.sum(((pred == 1) & (y == 1)) == 1)\n",
    "    fn = np.sum(((pred == 0) & (y == 1)) == 1)\n",
    "    \n",
    "    return tp / (tp + fn)"
   ]
  },
  {
   "cell_type": "markdown",
   "id": "02aaf442",
   "metadata": {},
   "source": [
    "### Popularity"
   ]
  },
  {
   "cell_type": "code",
   "execution_count": 5,
   "id": "911f3010",
   "metadata": {},
   "outputs": [],
   "source": [
    "from sklearn.linear_model import LogisticRegression"
   ]
  },
  {
   "cell_type": "code",
   "execution_count": 6,
   "id": "21df823a",
   "metadata": {},
   "outputs": [],
   "source": [
    "train_X_pop = readX('data/train_X_pop.txt')\n",
    "val_X_pop = readX('data/val_X_pop.txt')"
   ]
  },
  {
   "cell_type": "code",
   "execution_count": 7,
   "id": "d06f8bb8",
   "metadata": {},
   "outputs": [],
   "source": [
    "lr_pop = LogisticRegression(C=1.0, fit_intercept=True)\n",
    "lr_pop.fit(train_X_pop, train_y)\n",
    "pop_pred = lr_pop.predict(val_X_pop)"
   ]
  },
  {
   "cell_type": "code",
   "execution_count": 8,
   "id": "5a9653ca",
   "metadata": {},
   "outputs": [
    {
     "data": {
      "text/plain": [
       "0.818608513181117"
      ]
     },
     "execution_count": 8,
     "metadata": {},
     "output_type": "execute_result"
    }
   ],
   "source": [
    "lr_pop.score(val_X_pop, val_y)"
   ]
  },
  {
   "cell_type": "markdown",
   "id": "d8e46ce7",
   "metadata": {},
   "source": [
    "### Bayesian Personalized Ranking "
   ]
  },
  {
   "cell_type": "code",
   "execution_count": 9,
   "id": "a6aab201",
   "metadata": {},
   "outputs": [],
   "source": [
    "train_X_bpr = readX('data/train_X_bpr.txt')\n",
    "val_X_bpr = readX('data/val_X_bpr.txt')"
   ]
  },
  {
   "cell_type": "code",
   "execution_count": 10,
   "id": "2ddbcf6b",
   "metadata": {},
   "outputs": [],
   "source": [
    "lr_bpr = LogisticRegression(C=1.0, fit_intercept=True)\n",
    "lr_bpr.fit(train_X_bpr, train_y)\n",
    "bpr_pred = lr_bpr.predict(val_X_bpr)"
   ]
  },
  {
   "cell_type": "code",
   "execution_count": 11,
   "id": "f4cc9d46",
   "metadata": {},
   "outputs": [
    {
     "data": {
      "text/plain": [
       "0.8356666336958218"
      ]
     },
     "execution_count": 11,
     "metadata": {},
     "output_type": "execute_result"
    }
   ],
   "source": [
    "lr_bpr.score(val_X_bpr, val_y)"
   ]
  },
  {
   "cell_type": "markdown",
   "id": "1ae1861d",
   "metadata": {},
   "source": [
    "### Timestamp"
   ]
  },
  {
   "cell_type": "code",
   "execution_count": 13,
   "id": "69e841ae",
   "metadata": {},
   "outputs": [],
   "source": [
    "train_X_dt = readX('data/train_X_dt.txt')\n",
    "val_X_dt = readX('data/val_X_dt.txt')"
   ]
  },
  {
   "cell_type": "code",
   "execution_count": 14,
   "id": "32192ffd",
   "metadata": {},
   "outputs": [],
   "source": [
    "lr_dt = LogisticRegression(C=1.0, fit_intercept=True)\n",
    "lr_dt.fit(train_X_dt, train_y)\n",
    "dt_pred = lr_dt.predict(val_X_dt)"
   ]
  },
  {
   "cell_type": "markdown",
   "id": "c718f135",
   "metadata": {},
   "source": [
    "### FPMC"
   ]
  },
  {
   "cell_type": "code",
   "execution_count": 15,
   "id": "b1e4ea0c",
   "metadata": {},
   "outputs": [],
   "source": [
    "fpmc_pred = readX('data/FPMCPredictions.txt').flatten()"
   ]
  },
  {
   "cell_type": "code",
   "execution_count": 16,
   "id": "bdafdfbc",
   "metadata": {},
   "outputs": [
    {
     "data": {
      "text/plain": [
       "0.8368903697612121"
      ]
     },
     "execution_count": 16,
     "metadata": {},
     "output_type": "execute_result"
    }
   ],
   "source": [
    "accuracy(fpmc_pred, val_y)"
   ]
  },
  {
   "cell_type": "markdown",
   "id": "8c15b54d",
   "metadata": {},
   "source": [
    "### Latent Factor"
   ]
  },
  {
   "cell_type": "code",
   "execution_count": 17,
   "id": "6da25ebd",
   "metadata": {},
   "outputs": [],
   "source": [
    "lfm_pred = readX('data/LFMPredictions.txt').flatten()"
   ]
  },
  {
   "cell_type": "code",
   "execution_count": 18,
   "id": "48588a4e",
   "metadata": {},
   "outputs": [
    {
     "data": {
      "text/plain": [
       "0.6664575334156787"
      ]
     },
     "execution_count": 18,
     "metadata": {},
     "output_type": "execute_result"
    }
   ],
   "source": [
    "accuracy(lfm_pred, val_y)"
   ]
  },
  {
   "cell_type": "markdown",
   "id": "604134da",
   "metadata": {},
   "source": [
    "### Model Testing"
   ]
  },
  {
   "cell_type": "code",
   "execution_count": 19,
   "id": "7ac93323",
   "metadata": {},
   "outputs": [],
   "source": [
    "from itertools import combinations"
   ]
  },
  {
   "cell_type": "code",
   "execution_count": 20,
   "id": "ff70cb44",
   "metadata": {},
   "outputs": [],
   "source": [
    "class Composite:\n",
    "    def __init__(self):\n",
    "        self.bases = None\n",
    "    \n",
    "    def __repr__(self):\n",
    "        if self.bases == None:\n",
    "            return 'Composite()'\n",
    "        else:\n",
    "            return 'Composite({})'.format(', '.join(self.bases.keys()))\n",
    "    \n",
    "    def fit(self, pipe):\n",
    "        self.bases = {name: pred for name, pred in pipe}\n",
    "        self.predictions = {name: pred for name, pred in pipe}\n",
    "        \n",
    "        # get all combinations\n",
    "        for i in range(2, len(pipe) + 1):\n",
    "            for c in combinations(self.bases, i):\n",
    "                p = np.logical_or.reduce(tuple(self.bases[elem].copy() for elem in c)).astype(int)\n",
    "                name = ' + '.join(c)\n",
    "                self.predictions[name] = p\n",
    "        \n",
    "        return self\n",
    "                \n",
    "    def evaluate(self):\n",
    "        self.metrics = defaultdict(dict)\n",
    "        for name, p in tqdm(self.predictions.items()):\n",
    "            d = self.metrics[name]\n",
    "            d['accuracy'] = accuracy(p, val_y)\n",
    "            d['precision'] = precision(p, val_y)\n",
    "            d['recall'] = recall(p, val_y)"
   ]
  },
  {
   "cell_type": "code",
   "execution_count": 21,
   "id": "61cd788a",
   "metadata": {},
   "outputs": [
    {
     "data": {
      "application/vnd.jupyter.widget-view+json": {
       "model_id": "0c3eef51c62047b79a0cf558aa13ec42",
       "version_major": 2,
       "version_minor": 0
      },
      "text/plain": [
       "  0%|          | 0/31 [00:00<?, ?it/s]"
      ]
     },
     "metadata": {},
     "output_type": "display_data"
    }
   ],
   "source": [
    "# create pipe\n",
    "pipe = [\n",
    "    ('pop', pop_pred),\n",
    "    ('bpr', bpr_pred),\n",
    "    ('fpmc', fpmc_pred),\n",
    "    ('timestamp', dt_pred),\n",
    "    ('lfm', lfm_pred)\n",
    "]\n",
    "\n",
    "comp = Composite()\n",
    "comp.fit(pipe)\n",
    "comp.evaluate()"
   ]
  },
  {
   "cell_type": "code",
   "execution_count": 23,
   "id": "97a43c6d",
   "metadata": {},
   "outputs": [
    {
     "data": {
      "text/plain": [
       "defaultdict(dict,\n",
       "            {'pop': {'accuracy': 0.818608513181117,\n",
       "              'precision': 0.8816670347011649,\n",
       "              'recall': 0.7359991760013668},\n",
       "             'bpr': {'accuracy': 0.8356666336958218,\n",
       "              'precision': 0.8807392956422244,\n",
       "              'recall': 0.7764756564808555},\n",
       "             'fpmc': {'accuracy': 0.8368903697612121,\n",
       "              'precision': 0.8368903697612121,\n",
       "              'recall': 0.8368903697612121},\n",
       "             'timestamp': {'accuracy': 0.7635972036363844,\n",
       "              'precision': 0.7989837902491151,\n",
       "              'recall': 0.7044191014000619},\n",
       "             'lfm': {'accuracy': 0.6664575334156787,\n",
       "              'precision': 0.6664575334156787,\n",
       "              'recall': 0.6664575334156787},\n",
       "             'pop + bpr': {'accuracy': 0.8432017660383404,\n",
       "              'precision': 0.8272161475778127,\n",
       "              'recall': 0.8676284616321549},\n",
       "             'pop + fpmc': {'accuracy': 0.8280840887335353,\n",
       "              'precision': 0.8163176841246603,\n",
       "              'recall': 0.8466831193906987},\n",
       "             'pop + timestamp': {'accuracy': 0.8083156830319226,\n",
       "              'precision': 0.7929309207945938,\n",
       "              'recall': 0.8345757347116781},\n",
       "             'pop + lfm': {'accuracy': 0.7344997519012052,\n",
       "              'precision': 0.6953915828111628,\n",
       "              'recall': 0.8345761434411589},\n",
       "             'bpr + fpmc': {'accuracy': 0.8342281102882932,\n",
       "              'precision': 0.7918773644945412,\n",
       "              'recall': 0.9067769800286601},\n",
       "             'bpr + timestamp': {'accuracy': 0.8184529916136886,\n",
       "              'precision': 0.780387698668037,\n",
       "              'recall': 0.8863327401306136},\n",
       "             'bpr + lfm': {'accuracy': 0.7483757090434667,\n",
       "              'precision': 0.6928206320955907,\n",
       "              'recall': 0.8924346625488534},\n",
       "             'fpmc + timestamp': {'accuracy': 0.8083162961261438,\n",
       "              'precision': 0.7657204351831141,\n",
       "              'recall': 0.8884679429380946},\n",
       "             'fpmc + lfm': {'accuracy': 0.7447065444947,\n",
       "              'precision': 0.6900065281961264,\n",
       "              'recall': 0.8886490100980705},\n",
       "             'timestamp + lfm': {'accuracy': 0.7165606149907259,\n",
       "              'precision': 0.6672596196493359,\n",
       "              'recall': 0.863939269338831},\n",
       "             'pop + bpr + fpmc': {'accuracy': 0.8242381486843406,\n",
       "              'precision': 0.7776405819622502,\n",
       "              'recall': 0.9081552158377769},\n",
       "             'pop + bpr + timestamp': {'accuracy': 0.8107398575822997,\n",
       "              'precision': 0.7625760607754003,\n",
       "              'recall': 0.9024538483106802},\n",
       "             'pop + bpr + lfm': {'accuracy': 0.7485414488479142,\n",
       "              'precision': 0.6857733532279213,\n",
       "              'recall': 0.9174787440233532},\n",
       "             'pop + fpmc + timestamp': {'accuracy': 0.8036314388176927,\n",
       "              'precision': 0.7584920143626296,\n",
       "              'recall': 0.8909444348620088},\n",
       "             'pop + fpmc + lfm': {'accuracy': 0.741498631164969,\n",
       "              'precision': 0.6847859605053207,\n",
       "              'recall': 0.8949536623387664},\n",
       "             'pop + timestamp + lfm': {'accuracy': 0.726804193237489,\n",
       "              'precision': 0.6689053427795237,\n",
       "              'recall': 0.8981985656865061},\n",
       "             'bpr + fpmc + timestamp': {'accuracy': 0.7988047523794187,\n",
       "              'precision': 0.7380461239142645,\n",
       "              'recall': 0.9264241974392281},\n",
       "             'bpr + fpmc + lfm': {'accuracy': 0.7439973988455845,\n",
       "              'precision': 0.6757363025947772,\n",
       "              'recall': 0.9382119556642957},\n",
       "             'bpr + timestamp + lfm': {'accuracy': 0.7296041945454234,\n",
       "              'precision': 0.6626608870395626,\n",
       "              'recall': 0.9353798690921219},\n",
       "             'fpmc + timestamp + lfm': {'accuracy': 0.726815024568729,\n",
       "              'precision': 0.6622397171804348,\n",
       "              'recall': 0.9258270436678403},\n",
       "             'pop + bpr + fpmc + timestamp': {'accuracy': 0.794359410546692,\n",
       "              'precision': 0.7327283920097334,\n",
       "              'recall': 0.9267691651209881},\n",
       "             'pop + bpr + fpmc + lfm': {'accuracy': 0.7394339341929187,\n",
       "              'precision': 0.6711191292503336,\n",
       "              'recall': 0.9390457638050426},\n",
       "             'pop + bpr + timestamp + lfm': {'accuracy': 0.726573465445601,\n",
       "              'precision': 0.6587925787408793,\n",
       "              'recall': 0.9399993296836515},\n",
       "             'pop + fpmc + timestamp + lfm': {'accuracy': 0.7248850039605886,\n",
       "              'precision': 0.6600385927435869,\n",
       "              'recall': 0.9274811718764688},\n",
       "             'bpr + fpmc + timestamp + lfm': {'accuracy': 0.7203848923774404,\n",
       "              'precision': 0.6505867127219024,\n",
       "              'recall': 0.9521390039916521},\n",
       "             'pop + bpr + fpmc + timestamp + lfm': {'accuracy': 0.7183289830892264,\n",
       "              'precision': 0.6487213082987028,\n",
       "              'recall': 0.9523494996742426}})"
      ]
     },
     "execution_count": 23,
     "metadata": {},
     "output_type": "execute_result"
    }
   ],
   "source": [
    "comp.metrics"
   ]
  },
  {
   "cell_type": "code",
   "execution_count": 38,
   "id": "20235ff1",
   "metadata": {},
   "outputs": [],
   "source": [
    "at_least_2 = ((pop_pred + bpr_pred + fpmc_pred) >= 2).astype(int)"
   ]
  },
  {
   "cell_type": "code",
   "execution_count": 43,
   "id": "8dd81f51",
   "metadata": {},
   "outputs": [
    {
     "data": {
      "text/plain": [
       "[0.8570376676914877, 0.898710523445049, 0.80477812937596]"
      ]
     },
     "execution_count": 43,
     "metadata": {},
     "output_type": "execute_result"
    }
   ],
   "source": [
    "[f(at_least_2, val_y) for f in [accuracy, precision, recall]]"
   ]
  },
  {
   "cell_type": "code",
   "execution_count": null,
   "id": "41ad5584",
   "metadata": {},
   "outputs": [],
   "source": []
  }
 ],
 "metadata": {
  "kernelspec": {
   "display_name": "Python 3",
   "language": "python",
   "name": "python3"
  },
  "language_info": {
   "codemirror_mode": {
    "name": "ipython",
    "version": 3
   },
   "file_extension": ".py",
   "mimetype": "text/x-python",
   "name": "python",
   "nbconvert_exporter": "python",
   "pygments_lexer": "ipython3",
   "version": "3.8.8"
  }
 },
 "nbformat": 4,
 "nbformat_minor": 5
}
