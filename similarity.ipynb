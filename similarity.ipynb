{
 "cells": [
  {
   "cell_type": "code",
   "execution_count": 1,
   "id": "259070c8",
   "metadata": {},
   "outputs": [],
   "source": [
    "import gzip\n",
    "import csv\n",
    "import json\n",
    "import math\n",
    "import random\n",
    "from tqdm.notebook import tqdm\n",
    "import pandas as pd\n",
    "import numpy as np\n",
    "import matplotlib.pyplot as plt\n",
    "import seaborn as sns\n",
    "from collections import defaultdict\n",
    "\n",
    "%matplotlib inline\n",
    "%config InlineBackend.figure_format = 'retina'  # Higher resolution figures"
   ]
  },
  {
   "cell_type": "markdown",
   "id": "e6581c20",
   "metadata": {},
   "source": [
    "### Data, Evaluation"
   ]
  },
  {
   "cell_type": "code",
   "execution_count": 2,
   "id": "37223849",
   "metadata": {},
   "outputs": [],
   "source": [
    "def readData(fp, split):\n",
    "    \"\"\"\n",
    "    Train/val data reader that have different headers for pos/neg entries.\n",
    "    \n",
    "    split: number of positive/negative items (should be total // 2)\n",
    "    \"\"\"\n",
    "    result = []\n",
    "    with open(fp, 'r') as f:\n",
    "        header = next(f).strip().split(',')\n",
    "        non_ints = {'stream', 'streamer'}\n",
    "        i = 0\n",
    "        for line in f:\n",
    "            # parse data\n",
    "            content = line.strip().split(',')\n",
    "            if i < split:\n",
    "                d = dict(zip(header, content))\n",
    "                for k, v in d.items():\n",
    "                    if not k in non_ints:\n",
    "                        d[k] = int(v)\n",
    "            else:\n",
    "                d = {\n",
    "                    'user': int(content[0]),\n",
    "                    'stream': content[1],\n",
    "                    'watched': int(content[-1])\n",
    "                }    \n",
    "            i += 1\n",
    "            result.append(d)\n",
    "            \n",
    "    return result\n",
    "\n",
    "def readCSV(fp):\n",
    "    \"\"\"\n",
    "    Data reader for regular CSV files, returns a list of dictionaries.\n",
    "    \"\"\"\n",
    "    result = []\n",
    "    with open(fp, 'r') as f:\n",
    "        header = next(f).strip().split(',')\n",
    "        for line in f:\n",
    "            d = dict(zip(header, line.strip().split(',')))\n",
    "            result.append(d)\n",
    "    return result\n",
    "\n",
    "def readX(fp):\n",
    "    \"\"\"\n",
    "    Data reader for processed feature vector files, returns a 2D-list where\n",
    "    each element is a list of feature vectors.\n",
    "    \"\"\"\n",
    "    result = []\n",
    "    with open(fp, 'r') as f:\n",
    "        header = next(f)\n",
    "        print(\"Header: \" + header.strip())\n",
    "        for line in f:\n",
    "            l = line.strip().split(',')\n",
    "            result.append(l)\n",
    "    return result\n",
    "\n",
    "def readJSON(fp):\n",
    "    \"\"\"\n",
    "    JSON data reader.\n",
    "    \"\"\"\n",
    "    with open(fp, 'r') as f:\n",
    "        return json.load(f)"
   ]
  },
  {
   "cell_type": "code",
   "execution_count": 3,
   "id": "326d8c30",
   "metadata": {},
   "outputs": [],
   "source": [
    "# read from file\n",
    "train = readData('data/train.txt', split=12350800)\n",
    "val = readData('data/val.txt', split=2446606)\n",
    "train_streams = readJSON('data/train_streams.json')\n",
    "val_streams = readJSON('data/val_streams.json')\n",
    "\n",
    "# get labels\n",
    "train_y = [d['watched'] for d in train]\n",
    "val_y = [d['watched'] for d in val]"
   ]
  },
  {
   "cell_type": "code",
   "execution_count": 4,
   "id": "173b0796",
   "metadata": {},
   "outputs": [],
   "source": [
    "def accuracy(pred, y):\n",
    "    return np.mean(np.array(pred) == np.array(y))\n",
    "\n",
    "def precision(pred, y):\n",
    "    pred = np.array(pred)\n",
    "    y = np.array(y)\n",
    "    \n",
    "    tp = np.sum(((pred == 1) & (y == 1)) == 1)\n",
    "    fp = np.sum(((pred == 1) & (y == 0)) == 1)\n",
    "    \n",
    "    return tp / (tp + fp)\n",
    "\n",
    "def recall(pred, y):\n",
    "    pred = np.array(pred)\n",
    "    y = np.array(y)\n",
    "    \n",
    "    tp = np.sum(((pred == 1) & (y == 1)) == 1)\n",
    "    fn = np.sum(((pred == 0) & (y == 1)) == 1)\n",
    "    \n",
    "    return tp / (tp + fn)"
   ]
  },
  {
   "cell_type": "markdown",
   "id": "66bdf326",
   "metadata": {},
   "source": [
    "### Popularity Baseline"
   ]
  },
  {
   "cell_type": "code",
   "execution_count": 53,
   "id": "8d36d647",
   "metadata": {},
   "outputs": [],
   "source": [
    "class PopBase:\n",
    "    \n",
    "    def __init__(self, frac=.5):\n",
    "        self.frac = frac\n",
    "    \n",
    "    def __str__(self):\n",
    "        return f'PopBase(frac={self.frac})'\n",
    "    \n",
    "    def __repr__(self):\n",
    "        return self.__str__()\n",
    "    \n",
    "    def fit(self, X):\n",
    "        \"\"\"\n",
    "        During fitting, we find the streamers that account for 50% of interactions in training.\n",
    "        \n",
    "        Parameters:\n",
    "            X(List[dict]): Training streamers.\n",
    "        \"\"\"\n",
    "        # read all training data\n",
    "        streamer_count = defaultdict(int)\n",
    "        total = 0\n",
    "        \n",
    "        for d in tqdm(X, 'collecting training data'):\n",
    "            streamer_count[train_streams[d['stream']]['streamer']] += 1\n",
    "            total += 1\n",
    "        \n",
    "        # rank by most popular\n",
    "        by_popular = sorted([(streamer_count[s], s) for s in streamer_count], reverse=True)\n",
    "        \n",
    "        # find those account for 50%\n",
    "        most_popular = set()\n",
    "        accounted = 0\n",
    "        for count, streamer in by_popular:\n",
    "            accounted += count\n",
    "            most_popular.add(streamer)\n",
    "            \n",
    "            # check if accounted\n",
    "            if accounted > total * self.frac:\n",
    "                break\n",
    "        \n",
    "        self.popular_ = most_popular\n",
    "        return self\n",
    "    \n",
    "    def predict(self, X):\n",
    "        return [1 if val_streams[d['stream']]['streamer'] in self.popular_ else 0 for d in tqdm(X, 'predicting...')]"
   ]
  },
  {
   "cell_type": "code",
   "execution_count": 54,
   "id": "36d8c8dc",
   "metadata": {},
   "outputs": [
    {
     "data": {
      "application/vnd.jupyter.widget-view+json": {
       "model_id": "0c5138642347435b9b3589dad4dd3547",
       "version_major": 2,
       "version_minor": 0
      },
      "text/plain": [
       "collecting training data:   0%|          | 0/24701600 [00:00<?, ?it/s]"
      ]
     },
     "metadata": {},
     "output_type": "display_data"
    },
    {
     "data": {
      "application/vnd.jupyter.widget-view+json": {
       "model_id": "0c055b20dd194df3bb86c21438c8114d",
       "version_major": 2,
       "version_minor": 0
      },
      "text/plain": [
       "predicting...:   0%|          | 0/4893212 [00:00<?, ?it/s]"
      ]
     },
     "metadata": {},
     "output_type": "display_data"
    }
   ],
   "source": [
    "# fit model\n",
    "pop = PopBase(frac=0.55)\n",
    "pop.fit(train)\n",
    "\n",
    "# evaluate\n",
    "pred_pop = pop.predict(val)"
   ]
  },
  {
   "cell_type": "code",
   "execution_count": 52,
   "id": "546de1e4",
   "metadata": {},
   "outputs": [
    {
     "data": {
      "text/plain": [
       "0.770222912884216"
      ]
     },
     "execution_count": 52,
     "metadata": {},
     "output_type": "execute_result"
    }
   ],
   "source": [
    "accuracy(pred_pop, val_y)"
   ]
  },
  {
   "cell_type": "markdown",
   "id": "1056fa8b",
   "metadata": {},
   "source": [
    "### Latent Factor Model"
   ]
  },
  {
   "cell_type": "code",
   "execution_count": 14,
   "id": "0576ea17",
   "metadata": {},
   "outputs": [],
   "source": [
    "import tensorflow as tf"
   ]
  },
  {
   "cell_type": "code",
   "execution_count": 22,
   "id": "a6f82523",
   "metadata": {},
   "outputs": [
    {
     "data": {
      "application/vnd.jupyter.widget-view+json": {
       "model_id": "3867be59dc4c462a9aa7ce632981e19d",
       "version_major": 2,
       "version_minor": 0
      },
      "text/plain": [
       "  0%|          | 0/12350800 [00:00<?, ?it/s]"
      ]
     },
     "metadata": {},
     "output_type": "display_data"
    }
   ],
   "source": [
    "userIDs = {}\n",
    "itemIDs = {}\n",
    "interactionsPerUser = defaultdict(dict)\n",
    "\n",
    "for d in tqdm(train[:12350800]):\n",
    "    u = d['user']\n",
    "    i = train_streams[d['stream']]['streamer']\n",
    "    if not u in userIDs: userIDs[u] = len(userIDs)\n",
    "    if not i in itemIDs: itemIDs[i] = len(itemIDs)\n",
    "    user_d = interactionsPerUser[u]\n",
    "    if i in user_d:\n",
    "        user_d[i] += 1\n",
    "    else:\n",
    "        user_d[i] = 1"
   ]
  },
  {
   "cell_type": "code",
   "execution_count": 34,
   "id": "ec5fc561",
   "metadata": {},
   "outputs": [
    {
     "data": {
      "application/vnd.jupyter.widget-view+json": {
       "model_id": "b953672d40be45279e4edb1bf735691f",
       "version_major": 2,
       "version_minor": 0
      },
      "text/plain": [
       "  0%|          | 0/491582 [00:00<?, ?it/s]"
      ]
     },
     "metadata": {},
     "output_type": "display_data"
    }
   ],
   "source": [
    "interactions = []\n",
    "total_num = 0\n",
    "for u in tqdm(interactionsPerUser):\n",
    "    for streamer, num in interactionsPerUser[u].items():\n",
    "        interactions.append((u, streamer, num))\n",
    "        total_num += num\n",
    "mu = total_num / len(interactions)"
   ]
  },
  {
   "cell_type": "code",
   "execution_count": 29,
   "id": "32d55639",
   "metadata": {},
   "outputs": [
    {
     "data": {
      "text/plain": [
       "6435872"
      ]
     },
     "execution_count": 29,
     "metadata": {},
     "output_type": "execute_result"
    }
   ],
   "source": [
    "# random.shuffle(interactions)\n",
    "len(interactions)"
   ]
  },
  {
   "cell_type": "code",
   "execution_count": 36,
   "id": "38ea2e0e",
   "metadata": {},
   "outputs": [],
   "source": [
    "optimizer = tf.keras.optimizers.Adam(0.1)"
   ]
  },
  {
   "cell_type": "code",
   "execution_count": 37,
   "id": "b1322059",
   "metadata": {},
   "outputs": [],
   "source": [
    "class LatentFactorModel(tf.keras.Model):\n",
    "    def __init__(self, mu, K, lamb):\n",
    "        super(LatentFactorModel, self).__init__()\n",
    "        # Initialize to average\n",
    "        self.alpha = tf.Variable(mu)\n",
    "        # Initialize to small random values\n",
    "        self.betaU = tf.Variable(tf.random.normal([len(userIDs)],stddev=0.001))\n",
    "        self.betaI = tf.Variable(tf.random.normal([len(itemIDs)],stddev=0.001))\n",
    "        self.gammaU = tf.Variable(tf.random.normal([len(userIDs),K],stddev=0.001))\n",
    "        self.gammaI = tf.Variable(tf.random.normal([len(itemIDs),K],stddev=0.001))\n",
    "        self.lamb = lamb\n",
    "    \n",
    "    def find_param_val(self, *args):\n",
    "        user, item = args\n",
    "        if user in userIDs:\n",
    "            user_id = userIDs[user]\n",
    "        else:\n",
    "            user_id = -1\n",
    "\n",
    "        if item in itemIDs:\n",
    "            item_id = itemIDs[item]\n",
    "        else:\n",
    "            item_id = -1\n",
    "    \n",
    "        return self.predict(user_id, item_id)\n",
    "\n",
    "    # Prediction for a single instance (useful for evaluation)\n",
    "    def predict(self, u, i):\n",
    "        if u < 0 and i < 0:\n",
    "            return self.alpha\n",
    "        \n",
    "        if u < 0:\n",
    "            return self.alpha + self.betaI[i]\n",
    "        \n",
    "        if i < 0:\n",
    "            return self.alpha + self.betaU[u]\n",
    "        \n",
    "        return self.alpha + self.betaU[u] + self.betaI[i] +\\\n",
    "            tf.tensordot(self.gammaU[u], self.gammaI[i], 1)\n",
    "\n",
    "    # Regularizer\n",
    "    def reg(self):\n",
    "        return self.lamb * (tf.reduce_sum(self.betaU**2) +\\\n",
    "                            tf.reduce_sum(self.betaI**2) +\\\n",
    "                            tf.reduce_sum(self.gammaU**2) +\\\n",
    "                            tf.reduce_sum(self.gammaI**2))\n",
    "    \n",
    "    # Prediction for a sample of instances\n",
    "    def predictSample(self, sampleU, sampleI):\n",
    "        u = tf.convert_to_tensor(sampleU, dtype=tf.int32)\n",
    "        i = tf.convert_to_tensor(sampleI, dtype=tf.int32)\n",
    "        beta_u = tf.nn.embedding_lookup(self.betaU, u)\n",
    "        beta_i = tf.nn.embedding_lookup(self.betaI, i)\n",
    "        gamma_u = tf.nn.embedding_lookup(self.gammaU, u)\n",
    "        gamma_i = tf.nn.embedding_lookup(self.gammaI, i)\n",
    "        pred = self.alpha + beta_u + beta_i +\\\n",
    "               tf.reduce_sum(tf.multiply(gamma_u, gamma_i), 1)\n",
    "        return pred\n",
    "    \n",
    "    # Loss\n",
    "    def call(self, sampleU, sampleI, sampleR):\n",
    "        pred = self.predictSample(sampleU, sampleI)\n",
    "        r = tf.convert_to_tensor(sampleR, dtype=tf.float32)\n",
    "        return tf.nn.l2_loss(pred - r) / len(sampleR)"
   ]
  },
  {
   "cell_type": "code",
   "execution_count": 38,
   "id": "a4965ee8",
   "metadata": {},
   "outputs": [],
   "source": [
    "mdl = LatentFactorModel(mu, 5, 0.00001)"
   ]
  },
  {
   "cell_type": "code",
   "execution_count": 39,
   "id": "fa210e78",
   "metadata": {},
   "outputs": [],
   "source": [
    "def trainingStep(model, interactions):\n",
    "    Nsamples = 200000\n",
    "    with tf.GradientTape() as tape:\n",
    "        sampleU, sampleI, sampleR = [], [], []\n",
    "        for _ in range(Nsamples):\n",
    "            u,i,r = random.choice(interactions)\n",
    "            sampleU.append(userIDs[u])\n",
    "            sampleI.append(itemIDs[i])\n",
    "            sampleR.append(r)\n",
    "\n",
    "        loss = model(sampleU,sampleI,sampleR)\n",
    "        loss += model.reg()\n",
    "    gradients = tape.gradient(loss, model.trainable_variables)\n",
    "    optimizer.apply_gradients((grad, var) for\n",
    "                              (grad, var) in zip(gradients, model.trainable_variables)\n",
    "                              if grad is not None)\n",
    "    return loss.numpy()"
   ]
  },
  {
   "cell_type": "code",
   "execution_count": 40,
   "id": "3821b3c8",
   "metadata": {},
   "outputs": [
    {
     "name": "stdout",
     "output_type": "stream",
     "text": [
      "iteration 1, objective = 1.7868031\n",
      "iteration 2, objective = 1.786833\n",
      "iteration 3, objective = 1.7647964\n",
      "iteration 4, objective = 1.7992533\n",
      "iteration 5, objective = 1.7218503\n",
      "iteration 6, objective = 1.7184359\n",
      "iteration 7, objective = 1.7160406\n",
      "iteration 8, objective = 1.7567174\n",
      "iteration 9, objective = 1.7451345\n",
      "iteration 10, objective = 1.7645899\n",
      "iteration 11, objective = 1.750503\n",
      "iteration 12, objective = 1.7365141\n",
      "iteration 13, objective = 1.6913228\n",
      "iteration 14, objective = 1.694685\n",
      "iteration 15, objective = 1.6790042\n",
      "iteration 16, objective = 1.7072066\n",
      "iteration 17, objective = 1.6943059\n",
      "iteration 18, objective = 1.7444688\n",
      "iteration 19, objective = 1.7171757\n",
      "iteration 20, objective = 1.7237492\n",
      "iteration 21, objective = 1.7013156\n",
      "iteration 22, objective = 1.6901853\n",
      "iteration 23, objective = 1.7480377\n",
      "iteration 24, objective = 1.7540728\n",
      "iteration 25, objective = 1.7145406\n",
      "iteration 26, objective = 1.7233647\n",
      "iteration 27, objective = 1.7233428\n",
      "iteration 28, objective = 1.731783\n",
      "iteration 29, objective = 1.7172225\n",
      "iteration 30, objective = 1.7283072\n",
      "iteration 31, objective = 1.7551267\n",
      "iteration 32, objective = 1.7895461\n",
      "iteration 33, objective = 1.7673792\n",
      "iteration 34, objective = 1.7931635\n",
      "iteration 35, objective = 1.7833248\n",
      "iteration 36, objective = 1.7746799\n",
      "iteration 37, objective = 1.7918507\n",
      "iteration 38, objective = 1.7783831\n",
      "iteration 39, objective = 1.797041\n",
      "iteration 40, objective = 1.7966363\n",
      "iteration 41, objective = 1.7882335\n",
      "iteration 42, objective = 1.8379354\n",
      "iteration 43, objective = 1.830452\n",
      "iteration 44, objective = 1.8158293\n",
      "iteration 45, objective = 1.835377\n",
      "iteration 46, objective = 1.8212461\n",
      "iteration 47, objective = 1.8378922\n",
      "iteration 48, objective = 1.8022103\n",
      "iteration 49, objective = 1.8094648\n",
      "iteration 50, objective = 1.7786936\n",
      "iteration 51, objective = 1.8352703\n",
      "iteration 52, objective = 1.841988\n",
      "iteration 53, objective = 1.802404\n",
      "iteration 54, objective = 1.8628092\n",
      "iteration 55, objective = 1.844311\n",
      "iteration 56, objective = 1.8586003\n",
      "iteration 57, objective = 1.8426533\n",
      "iteration 58, objective = 1.846885\n",
      "iteration 59, objective = 1.8276882\n",
      "iteration 60, objective = 1.8416003\n",
      "iteration 61, objective = 1.8073134\n",
      "iteration 62, objective = 1.8152376\n",
      "iteration 63, objective = 1.8387504\n",
      "iteration 64, objective = 1.8537369\n",
      "iteration 65, objective = 1.8143871\n",
      "iteration 66, objective = 1.8354224\n",
      "iteration 67, objective = 1.8384464\n",
      "iteration 68, objective = 1.803018\n",
      "iteration 69, objective = 1.8255334\n",
      "iteration 70, objective = 1.8350047\n",
      "iteration 71, objective = 1.8273113\n",
      "iteration 72, objective = 1.844419\n",
      "iteration 73, objective = 1.8578174\n",
      "iteration 74, objective = 1.8216687\n",
      "iteration 75, objective = 1.830388\n",
      "iteration 76, objective = 1.7881371\n",
      "iteration 77, objective = 1.8455743\n",
      "iteration 78, objective = 1.8442101\n",
      "iteration 79, objective = 1.8156545\n",
      "iteration 80, objective = 1.8314018\n",
      "iteration 81, objective = 1.8247769\n",
      "iteration 82, objective = 1.8520665\n",
      "iteration 83, objective = 1.8149083\n",
      "iteration 84, objective = 1.8509467\n",
      "iteration 85, objective = 1.856939\n",
      "iteration 86, objective = 1.8508809\n",
      "iteration 87, objective = 1.818232\n",
      "iteration 88, objective = 1.8398958\n",
      "iteration 89, objective = 1.8335136\n",
      "iteration 90, objective = 1.8221765\n",
      "iteration 91, objective = 1.8343654\n",
      "iteration 92, objective = 1.8247824\n",
      "iteration 93, objective = 1.8210199\n",
      "iteration 94, objective = 1.8220158\n",
      "iteration 95, objective = 1.8493625\n",
      "iteration 96, objective = 1.8593817\n",
      "iteration 97, objective = 1.8150973\n",
      "iteration 98, objective = 1.8143831\n",
      "iteration 99, objective = 1.8605666\n",
      "iteration 100, objective = 1.8423084\n",
      "iteration 101, objective = 1.8315244\n"
     ]
    }
   ],
   "source": [
    "i = 0\n",
    "prev_obj = float('inf')\n",
    "inc = 0\n",
    "while i <= 100:\n",
    "    obj = trainingStep(mdl, interactions)\n",
    "    print(\"iteration \" + str(i+1) + \", objective = \" + str(obj))\n",
    "    if obj >= prev_obj: \n",
    "        inc += 1\n",
    "    else:\n",
    "        inc = 0\n",
    "    if inc >= 5: break\n",
    "    prev_obj = obj\n",
    "    i += 1"
   ]
  },
  {
   "cell_type": "code",
   "execution_count": 44,
   "id": "44a340df",
   "metadata": {},
   "outputs": [
    {
     "data": {
      "application/vnd.jupyter.widget-view+json": {
       "model_id": "a45f88fe1d484026ae2914a444719831",
       "version_major": 2,
       "version_minor": 0
      },
      "text/plain": [
       "  0%|          | 0/4893212 [00:00<?, ?it/s]"
      ]
     },
     "metadata": {},
     "output_type": "display_data"
    }
   ],
   "source": [
    "# build sets\n",
    "val_X_ltf = [mdl.find_param_val(d['user'], val_streams[d['stream']]['streamer']) for d in tqdm(val)]"
   ]
  },
  {
   "cell_type": "code",
   "execution_count": 45,
   "id": "8827b4ea",
   "metadata": {},
   "outputs": [
    {
     "data": {
      "application/vnd.jupyter.widget-view+json": {
       "model_id": "b93043836e5346788b057d74e88db35e",
       "version_major": 2,
       "version_minor": 0
      },
      "text/plain": [
       "  0%|          | 0/4893212 [00:00<?, ?it/s]"
      ]
     },
     "metadata": {},
     "output_type": "display_data"
    }
   ],
   "source": [
    "ltf_score_per_user = defaultdict(list)\n",
    "\n",
    "for i in tqdm(range(len(val_X_ltf))):\n",
    "    score = val_X_ltf[i]\n",
    "    if not isinstance(score, int):\n",
    "        score = score.numpy()\n",
    "    user = val[i]['user']\n",
    "    ltf_score_per_user[user].append((score, i))"
   ]
  },
  {
   "cell_type": "code",
   "execution_count": 47,
   "id": "2fdfc0a6",
   "metadata": {},
   "outputs": [],
   "source": [
    "ltf_pred_dict = dict()\n",
    "\n",
    "for u in ltf_score_per_user:\n",
    "    lst = ltf_score_per_user[u]\n",
    "    lst.sort(reverse=True)\n",
    "    full_size = len(lst)\n",
    "    pos_size = full_size // 2\n",
    "    for i in range(full_size):\n",
    "        if i < pos_size:\n",
    "            ltf_pred_dict[lst[i][-1]] = 1\n",
    "        else:\n",
    "            ltf_pred_dict[lst[i][-1]] = 0"
   ]
  },
  {
   "cell_type": "code",
   "execution_count": 48,
   "id": "e9ac319a",
   "metadata": {},
   "outputs": [],
   "source": [
    "ltf_pred = [ltf_pred_dict[i] for i in range(4893212)]"
   ]
  },
  {
   "cell_type": "code",
   "execution_count": 49,
   "id": "0783933d",
   "metadata": {},
   "outputs": [
    {
     "data": {
      "text/plain": [
       "0.6664575334156787"
      ]
     },
     "execution_count": 49,
     "metadata": {},
     "output_type": "execute_result"
    }
   ],
   "source": [
    "accuracy(ltf_pred, val_y)"
   ]
  },
  {
   "cell_type": "code",
   "execution_count": 50,
   "id": "e7a144f5",
   "metadata": {},
   "outputs": [],
   "source": [
    "with open('data/LFMPredictions.txt', 'w') as f:\n",
    "    f.write('prediction\\n')\n",
    "    for pred in ltf_pred:\n",
    "        f.write(str(pred) + '\\n')"
   ]
  },
  {
   "cell_type": "code",
   "execution_count": null,
   "id": "603e30e0",
   "metadata": {},
   "outputs": [],
   "source": []
  }
 ],
 "metadata": {
  "kernelspec": {
   "display_name": "Python 3",
   "language": "python",
   "name": "python3"
  },
  "language_info": {
   "codemirror_mode": {
    "name": "ipython",
    "version": 3
   },
   "file_extension": ".py",
   "mimetype": "text/x-python",
   "name": "python",
   "nbconvert_exporter": "python",
   "pygments_lexer": "ipython3",
   "version": "3.8.8"
  }
 },
 "nbformat": 4,
 "nbformat_minor": 5
}
