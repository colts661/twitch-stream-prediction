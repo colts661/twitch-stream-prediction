{
 "cells": [
  {
   "cell_type": "code",
   "execution_count": 1,
   "id": "f396f8af",
   "metadata": {},
   "outputs": [],
   "source": [
    "import gzip\n",
    "import csv\n",
    "import json\n",
    "import math\n",
    "import random\n",
    "from tqdm.notebook import tqdm\n",
    "import pandas as pd\n",
    "import numpy as np\n",
    "import matplotlib.pyplot as plt\n",
    "import seaborn as sns\n",
    "from collections import defaultdict\n",
    "\n",
    "%matplotlib inline\n",
    "%config InlineBackend.figure_format = 'retina'  # Higher resolution figures"
   ]
  },
  {
   "cell_type": "markdown",
   "id": "881686f2",
   "metadata": {},
   "source": [
    "### Read Data"
   ]
  },
  {
   "cell_type": "code",
   "execution_count": 2,
   "id": "834cb823",
   "metadata": {},
   "outputs": [],
   "source": [
    "def add_watch_time(d, col):\n",
    "    # process to minutes\n",
    "    d[col + '_in_day'] = d[col] % 144\n",
    "    d[col + '_at_day'] = d[col] // 144"
   ]
  },
  {
   "cell_type": "code",
   "execution_count": 3,
   "id": "10a8d8df",
   "metadata": {},
   "outputs": [],
   "source": [
    "def readCSV(path):    \n",
    "    # open file\n",
    "    f = gzip.open(path, 'rt')\n",
    "    header = ['user', 'stream', 'streamer', 'time_start', 'time_stop']\n",
    "    \n",
    "    # process each line\n",
    "    train, val = [], []\n",
    "    train_streams, val_streams = dict(), dict()\n",
    "    streams_per_user = defaultdict(set)\n",
    "    users_per_stream = defaultdict(set)\n",
    "    \n",
    "    print('Parsing Data...')\n",
    "    for line in f:\n",
    "        # parse data\n",
    "        d = dict(zip(header,line.strip().split(',')))\n",
    "        d['user'], d['time_start'], d['time_stop'] = int(d['user']), int(d['time_start']), int(d['time_stop'])\n",
    "        add_watch_time(d, 'time_start')\n",
    "        add_watch_time(d, 'time_stop')\n",
    "        d['watched'] = 1\n",
    "        \n",
    "        # handy info\n",
    "        uid, sid = d['user'], d['stream']\n",
    "        \n",
    "        if uid > 500_000:\n",
    "            break\n",
    "        \n",
    "        if d['time_stop_at_day'] < 36:\n",
    "            # to training set\n",
    "            train.append(d)\n",
    "            \n",
    "            # to training streams\n",
    "            if not sid in train_streams:\n",
    "                train_streams[sid] = {\n",
    "                    'streamer': d['streamer'], \n",
    "                    'time_start': d['time_start'], \n",
    "                    'time_stop': d['time_stop']\n",
    "                }\n",
    "            else:\n",
    "                train_streams[sid]['time_start'] = min(train_streams[sid]['time_start'], d['time_start'])\n",
    "                train_streams[sid]['time_stop'] = max(train_streams[sid]['time_stop'], d['time_stop'])\n",
    "            \n",
    "            # to user/stream interactions\n",
    "            streams_per_user[d['user']].add(sid)\n",
    "            users_per_stream[sid].add(d['user'])\n",
    "        else:\n",
    "            val.append(d)\n",
    "            if not sid in val_streams:\n",
    "                val_streams[sid] = {\n",
    "                    'streamer': d['streamer'], \n",
    "                    'time_start': d['time_start'], \n",
    "                    'time_stop': d['time_stop']\n",
    "                }\n",
    "            else:\n",
    "                val_streams[sid]['time_start'] = min(val_streams[sid]['time_start'], d['time_start'])\n",
    "                val_streams[sid]['time_stop'] = max(val_streams[sid]['time_stop'], d['time_stop'])\n",
    "    \n",
    "    return train, val, train_streams, val_streams, streams_per_user, users_per_stream"
   ]
  },
  {
   "cell_type": "code",
   "execution_count": 4,
   "id": "b96e1f01",
   "metadata": {},
   "outputs": [],
   "source": [
    "def sample_negatives(lst, streams):\n",
    "    \n",
    "    ids = list(streams.keys())\n",
    "    negatives = []\n",
    "    \n",
    "    # go through each training interaction\n",
    "    for d in tqdm(lst, 'Getting Negative Samples'):\n",
    "        # find a stream\n",
    "        while True:\n",
    "            neg = random.choice(ids)\n",
    "\n",
    "            if not (neg in streams_per_user[d['user']]):\n",
    "                negatives.append({\n",
    "                    'user': d['user'],\n",
    "                    'stream': neg,\n",
    "                    'watched': 0\n",
    "                })\n",
    "                break\n",
    "    \n",
    "    # augment train/val set\n",
    "    lst += negatives"
   ]
  },
  {
   "cell_type": "code",
   "execution_count": 5,
   "id": "bebf5271",
   "metadata": {},
   "outputs": [
    {
     "name": "stdout",
     "output_type": "stream",
     "text": [
      "Parsing Data...\n"
     ]
    },
    {
     "data": {
      "application/vnd.jupyter.widget-view+json": {
       "model_id": "07f49f252fa343bdb6138dd90e8978ed",
       "version_major": 2,
       "version_minor": 0
      },
      "text/plain": [
       "Getting Negative Samples:   0%|          | 0/12350800 [00:00<?, ?it/s]"
      ]
     },
     "metadata": {},
     "output_type": "display_data"
    },
    {
     "data": {
      "application/vnd.jupyter.widget-view+json": {
       "model_id": "ad83202220524ea1a2e60df891fa0b9c",
       "version_major": 2,
       "version_minor": 0
      },
      "text/plain": [
       "Getting Negative Samples:   0%|          | 0/2446606 [00:00<?, ?it/s]"
      ]
     },
     "metadata": {},
     "output_type": "display_data"
    },
    {
     "data": {
      "text/plain": [
       "24701600"
      ]
     },
     "execution_count": 5,
     "metadata": {},
     "output_type": "execute_result"
    }
   ],
   "source": [
    "# build training and validation sets\n",
    "train, val, train_streams, val_streams, streams_per_user, users_per_stream = readCSV('data/full_a.csv.gz')\n",
    "sample_negatives(train, train_streams)\n",
    "sample_negatives(val, val_streams)\n",
    "len(train)"
   ]
  },
  {
   "cell_type": "code",
   "execution_count": 6,
   "id": "4619ff8d",
   "metadata": {},
   "outputs": [],
   "source": [
    "train_y = [d['watched'] for d in train]\n",
    "val_y = [d['watched'] for d in val]"
   ]
  },
  {
   "cell_type": "markdown",
   "id": "59d95113",
   "metadata": {},
   "source": [
    "### Evaluation Metric"
   ]
  },
  {
   "cell_type": "code",
   "execution_count": 7,
   "id": "a44187b0",
   "metadata": {},
   "outputs": [],
   "source": [
    "def accuracy(pred, y):\n",
    "    return np.mean(np.array(pred) == np.array(y))"
   ]
  },
  {
   "cell_type": "code",
   "execution_count": 8,
   "id": "adc8ab09",
   "metadata": {},
   "outputs": [],
   "source": [
    "def precision(pred, y):\n",
    "    pred = np.array(pred)\n",
    "    y = np.array(y)\n",
    "    \n",
    "    tp = np.sum(((pred == 1) & (y == 1)) == 1)\n",
    "    fp = np.sum(((pred == 1) & (y == 0)) == 1)\n",
    "    \n",
    "    return tp / (tp + fp)"
   ]
  },
  {
   "cell_type": "code",
   "execution_count": 9,
   "id": "f58413ad",
   "metadata": {},
   "outputs": [],
   "source": [
    "def recall(pred, y):\n",
    "    pred = np.array(pred)\n",
    "    y = np.array(y)\n",
    "    \n",
    "    tp = np.sum(((pred == 1) & (y == 1)) == 1)\n",
    "    fn = np.sum(((pred == 0) & (y == 1)) == 1)\n",
    "    \n",
    "    return tp / (tp + fn)"
   ]
  },
  {
   "cell_type": "markdown",
   "id": "c0fb10b7",
   "metadata": {},
   "source": [
    "### Feature 1: Streamer Popularity Score ($\\rightarrow$ Popularity Feature)"
   ]
  },
  {
   "cell_type": "code",
   "execution_count": 10,
   "id": "4c257390",
   "metadata": {},
   "outputs": [],
   "source": [
    "from sklearn.linear_model import LogisticRegression"
   ]
  },
  {
   "cell_type": "markdown",
   "id": "bb6fdd48",
   "metadata": {},
   "source": [
    "#### Popular Streamer Accounting for Half of History (Source: Paper)"
   ]
  },
  {
   "cell_type": "markdown",
   "id": "9044a337",
   "metadata": {},
   "source": [
    "#### Popular Stream"
   ]
  },
  {
   "cell_type": "code",
   "execution_count": 11,
   "id": "9bd1d39f",
   "metadata": {},
   "outputs": [],
   "source": [
    "def find_popularity(X, on='streamer'):\n",
    "    # fit only on the first half\n",
    "    X_fit = X[:12350800]\n",
    "    \n",
    "    # read all training data\n",
    "    item_count = defaultdict(int)\n",
    "    total_watched = 0\n",
    "    popularity = defaultdict(float)\n",
    "    \n",
    "    # count all recipes\n",
    "    for d in X_fit:\n",
    "        if on == 'stream':\n",
    "            item_count[d[on]] += 1\n",
    "            total_watched += 1\n",
    "        else:\n",
    "            item_count[train_streams[d['stream']][on]] += 1\n",
    "            total_watched += 1\n",
    "    \n",
    "    # find recipe with their counts\n",
    "    popularity = pd.DataFrame([(r, item_count[r]) for r in item_count]).rename(columns={0: on, 1: 'count'})\n",
    "    \n",
    "    # make percentile\n",
    "    percentile = (\n",
    "        popularity\n",
    "        .groupby('count').count()\n",
    "        .reset_index()\n",
    "    )\n",
    "    \n",
    "    percentile = (\n",
    "        percentile\n",
    "        .assign(percentile=(percentile['count'] * percentile[on]).cumsum() / 12350800)\n",
    "        .drop(columns=[on])\n",
    "    )\n",
    "\n",
    "    # join with original table, convert to dictionary\n",
    "    return (\n",
    "        popularity\n",
    "        .merge(percentile, how='left', left_on='count', right_on='count')\n",
    "        .drop(columns=['count'])\n",
    "        .set_index(on)['percentile']\n",
    "        .to_dict()\n",
    "    )"
   ]
  },
  {
   "cell_type": "code",
   "execution_count": 12,
   "id": "1778dabc",
   "metadata": {},
   "outputs": [],
   "source": [
    "popularity_streamer = find_popularity(train, on='streamer')"
   ]
  },
  {
   "cell_type": "code",
   "execution_count": 13,
   "id": "e0ec296b",
   "metadata": {},
   "outputs": [],
   "source": [
    "def dict_lookup(val, d):\n",
    "    if val in d:\n",
    "        return d[val]\n",
    "    else:\n",
    "        return 0"
   ]
  },
  {
   "cell_type": "code",
   "execution_count": 14,
   "id": "5b095812",
   "metadata": {},
   "outputs": [
    {
     "data": {
      "application/vnd.jupyter.widget-view+json": {
       "model_id": "5aaf412d7304401284d1d4afa9d9dd10",
       "version_major": 2,
       "version_minor": 0
      },
      "text/plain": [
       "  0%|          | 0/24701600 [00:00<?, ?it/s]"
      ]
     },
     "metadata": {},
     "output_type": "display_data"
    },
    {
     "data": {
      "application/vnd.jupyter.widget-view+json": {
       "model_id": "d622d0f5d25747e091966485c6ae2549",
       "version_major": 2,
       "version_minor": 0
      },
      "text/plain": [
       "  0%|          | 0/4893212 [00:00<?, ?it/s]"
      ]
     },
     "metadata": {},
     "output_type": "display_data"
    }
   ],
   "source": [
    "train_X_pop = [[dict_lookup(train_streams[d['stream']]['streamer'], popularity_streamer)] for d in tqdm(train)]\n",
    "val_X_pop = [[dict_lookup(val_streams[d['stream']]['streamer'], popularity_streamer)] for d in tqdm(val)]"
   ]
  },
  {
   "cell_type": "code",
   "execution_count": 15,
   "id": "31831900",
   "metadata": {},
   "outputs": [
    {
     "name": "stdout",
     "output_type": "stream",
     "text": [
      "Training Accuracy: 0.8226428652394987\n",
      "Validation Accuracy: 0.818608513181117\n"
     ]
    }
   ],
   "source": [
    "lr_pop = LogisticRegression(C=1.0, fit_intercept=True)\n",
    "lr_pop.fit(train_X_pop, train_y)\n",
    "print('Training Accuracy: ' + str(lr_pop.score(train_X_pop, train_y)))\n",
    "print('Validation Accuracy: ' + str(lr_pop.score(val_X_pop, val_y)))"
   ]
  },
  {
   "cell_type": "markdown",
   "id": "43a17f37",
   "metadata": {},
   "source": [
    "### Feature 2: Jaccard\n",
    "Per Huy"
   ]
  },
  {
   "cell_type": "markdown",
   "id": "7d968256",
   "metadata": {},
   "source": [
    "### Feature 3: Direct Times"
   ]
  },
  {
   "cell_type": "code",
   "execution_count": 47,
   "id": "49ad99df",
   "metadata": {},
   "outputs": [],
   "source": [
    "for d in train_streams.values():\n",
    "    add_watch_time(d, 'time_start')\n",
    "    add_watch_time(d, 'time_stop')\n",
    "    \n",
    "for d in val_streams.values():\n",
    "    add_watch_time(d, 'time_start')\n",
    "    add_watch_time(d, 'time_stop')"
   ]
  },
  {
   "cell_type": "code",
   "execution_count": 49,
   "id": "03a9f6e5",
   "metadata": {},
   "outputs": [],
   "source": [
    "train_X_dt = [[train_streams[d['stream']]['time_start_at_day'],\n",
    "               train_streams[d['stream']]['time_start_in_day'],\n",
    "               train_streams[d['stream']]['time_stop_at_day'],\n",
    "               train_streams[d['stream']]['time_stop_in_day']] for d in train]\n",
    "val_X_dt = [[val_streams[d['stream']]['time_start_at_day'],\n",
    "             val_streams[d['stream']]['time_start_in_day'],\n",
    "             val_streams[d['stream']]['time_stop_at_day'],\n",
    "             val_streams[d['stream']]['time_stop_in_day']] for d in val]"
   ]
  },
  {
   "cell_type": "code",
   "execution_count": 50,
   "id": "854f240a",
   "metadata": {},
   "outputs": [
    {
     "name": "stdout",
     "output_type": "stream",
     "text": [
      "Training Accuracy: 0.763157244874826\n",
      "Validation Accuracy: 0.7635972036363844\n"
     ]
    }
   ],
   "source": [
    "lr_dt = LogisticRegression(C=1.0, fit_intercept=True)\n",
    "lr_dt.fit(train_X_dt, train_y)\n",
    "print('Training Accuracy: ' + str(lr_dt.score(train_X_dt, train_y)))\n",
    "print('Validation Accuracy: ' + str(lr_dt.score(val_X_dt, val_y)))"
   ]
  },
  {
   "cell_type": "code",
   "execution_count": 51,
   "id": "c43651b6",
   "metadata": {},
   "outputs": [
    {
     "data": {
      "text/plain": [
       "[0, 0, 0, 31]"
      ]
     },
     "execution_count": 51,
     "metadata": {},
     "output_type": "execute_result"
    }
   ],
   "source": [
    "train_X_dt[0]"
   ]
  },
  {
   "cell_type": "code",
   "execution_count": 52,
   "id": "f9445eea",
   "metadata": {},
   "outputs": [
    {
     "data": {
      "application/vnd.jupyter.widget-view+json": {
       "model_id": "d3530d62b93742a49c6da7d69a830aaa",
       "version_major": 2,
       "version_minor": 0
      },
      "text/plain": [
       "  0%|          | 0/24701600 [00:00<?, ?it/s]"
      ]
     },
     "metadata": {},
     "output_type": "display_data"
    },
    {
     "data": {
      "application/vnd.jupyter.widget-view+json": {
       "model_id": "0574f7960ca04f99b63b3a30de88cefa",
       "version_major": 2,
       "version_minor": 0
      },
      "text/plain": [
       "  0%|          | 0/4893212 [00:00<?, ?it/s]"
      ]
     },
     "metadata": {},
     "output_type": "display_data"
    }
   ],
   "source": [
    "train_X_t = [[train_streams[d['stream']]['time_start'],\n",
    "               train_streams[d['stream']]['time_stop']] for d in tqdm(train)]\n",
    "val_X_t = [[val_streams[d['stream']]['time_start'],\n",
    "             val_streams[d['stream']]['time_stop']] for d in tqdm(val)]"
   ]
  },
  {
   "cell_type": "code",
   "execution_count": 57,
   "id": "8ba3a7f1",
   "metadata": {},
   "outputs": [
    {
     "name": "stdout",
     "output_type": "stream",
     "text": [
      "Training Accuracy: 0.7627117676587751\n",
      "Validation Accuracy: 0.7646607177453174\n"
     ]
    }
   ],
   "source": [
    "lr_t = LogisticRegression(C=1.0, fit_intercept=True)\n",
    "lr_t.fit(train_X_t, train_y)\n",
    "print('Training Accuracy: ' + str(lr_t.score(train_X_t, train_y)))\n",
    "print('Validation Accuracy: ' + str(lr_t.score(val_X_t, val_y)))"
   ]
  },
  {
   "cell_type": "markdown",
   "id": "8128f54e",
   "metadata": {},
   "source": [
    "### Interaction 1: Bayesian Personalized Ranking"
   ]
  },
  {
   "cell_type": "code",
   "execution_count": 61,
   "id": "6e9f657a",
   "metadata": {},
   "outputs": [],
   "source": [
    "import scipy\n",
    "from implicit import bpr\n",
    "import tensorflow as tf"
   ]
  },
  {
   "cell_type": "code",
   "execution_count": 62,
   "id": "01cb2024",
   "metadata": {},
   "outputs": [],
   "source": [
    "user_ids, streamer_ids = {}, {}\n",
    "interactions = []\n",
    "users_per_streamer = defaultdict(set)\n",
    "streamers_per_user = defaultdict(set)\n",
    "\n",
    "for d in train[:12350800]:\n",
    "    u,i = d['user'], train_streams[d['stream']]['streamer']\n",
    "    r = d['watched']\n",
    "    users_per_streamer[i].add(u)\n",
    "    streamers_per_user[u].add(i)\n",
    "    if not u in user_ids: user_ids[u] = len(user_ids)\n",
    "    if not i in streamer_ids: streamer_ids[i] = len(streamer_ids)\n",
    "    interactions.append((u, i, r))\n",
    "\n",
    "n_users, n_streamers = len(user_ids),len(streamer_ids)"
   ]
  },
  {
   "cell_type": "code",
   "execution_count": 63,
   "id": "b322cb50",
   "metadata": {},
   "outputs": [],
   "source": [
    "Xiu = scipy.sparse.lil_matrix((n_streamers, n_users))\n",
    "for tup in interactions:\n",
    "    u, i, r = tup\n",
    "    Xiu[streamer_ids[i], user_ids[u]] += r\n",
    "    \n",
    "Xui = scipy.sparse.csr_matrix(Xiu.T)"
   ]
  },
  {
   "cell_type": "code",
   "execution_count": 64,
   "id": "a7b2644f",
   "metadata": {},
   "outputs": [],
   "source": [
    "bpr_mdl = bpr.BayesianPersonalizedRanking(factors=5, verify_negative_samples=True, random_state=42)"
   ]
  },
  {
   "cell_type": "code",
   "execution_count": 65,
   "id": "c02b57e0",
   "metadata": {},
   "outputs": [
    {
     "data": {
      "application/vnd.jupyter.widget-view+json": {
       "model_id": "50ded0abbfc144e5b6b14069ad4e81e0",
       "version_major": 2,
       "version_minor": 0
      },
      "text/plain": [
       "  0%|          | 0/100 [00:00<?, ?it/s]"
      ]
     },
     "metadata": {},
     "output_type": "display_data"
    }
   ],
   "source": [
    "bpr_mdl.fit(Xiu)"
   ]
  },
  {
   "cell_type": "code",
   "execution_count": 66,
   "id": "d0da9083",
   "metadata": {},
   "outputs": [],
   "source": [
    "def bpr_dict_lookup(val, d):\n",
    "    if val in d:\n",
    "        return d[val]\n",
    "    else:\n",
    "        return -1"
   ]
  },
  {
   "cell_type": "code",
   "execution_count": 67,
   "id": "3cf8be5f",
   "metadata": {},
   "outputs": [],
   "source": [
    "beta_i = bpr_mdl.item_norms\n",
    "beta_u = bpr_mdl.user_norms\n",
    "\n",
    "gamma_i = bpr_mdl.item_factors\n",
    "gamma_u = bpr_mdl.user_factors\n",
    "\n",
    "def bpr_predict(user, stream):\n",
    "    u = bpr_dict_lookup(user, user_ids)\n",
    "    i = bpr_dict_lookup(train_streams[stream]['streamer'], streamer_ids)\n",
    "    \n",
    "    if u == -1 and i == -1:\n",
    "        return 100\n",
    "    \n",
    "    if u == -1:\n",
    "        return beta_i[i]\n",
    "    \n",
    "    if i == -1:\n",
    "        return beta_u[u]\n",
    "    \n",
    "    return beta_i[i] + beta_u[u] + tf.tensordot(gamma_u[u], gamma_i[i], 1).numpy()\n",
    "\n",
    "def bpr_predict_val(user, stream):\n",
    "    u = bpr_dict_lookup(user, user_ids)\n",
    "    i = bpr_dict_lookup(val_streams[stream]['streamer'], streamer_ids)\n",
    "    \n",
    "    if u == -1 and i == -1:\n",
    "        return 100\n",
    "    \n",
    "    if u == -1:\n",
    "        return beta_i[i]\n",
    "    \n",
    "    if i == -1:\n",
    "        return beta_u[u]\n",
    "    \n",
    "    return beta_i[i] + beta_u[u] + tf.tensordot(gamma_u[u], gamma_i[i], 1).numpy()"
   ]
  },
  {
   "cell_type": "code",
   "execution_count": 68,
   "id": "7cab6d3a",
   "metadata": {},
   "outputs": [
    {
     "data": {
      "application/vnd.jupyter.widget-view+json": {
       "model_id": "6f04dd84e6554a0e80463467a044c4f5",
       "version_major": 2,
       "version_minor": 0
      },
      "text/plain": [
       "  0%|          | 0/24701600 [00:00<?, ?it/s]"
      ]
     },
     "metadata": {},
     "output_type": "display_data"
    }
   ],
   "source": [
    "train_X_bpr = [bpr_predict(d['user'], d['stream']) for d in tqdm(train)]"
   ]
  },
  {
   "cell_type": "code",
   "execution_count": 69,
   "id": "a9d9318f",
   "metadata": {},
   "outputs": [
    {
     "data": {
      "application/vnd.jupyter.widget-view+json": {
       "model_id": "19819cfea75e4c7cbcb87755b03a7154",
       "version_major": 2,
       "version_minor": 0
      },
      "text/plain": [
       "  0%|          | 0/4893212 [00:00<?, ?it/s]"
      ]
     },
     "metadata": {},
     "output_type": "display_data"
    }
   ],
   "source": [
    "val_X_bpr = [bpr_predict_val(d['user'], d['stream']) for d in tqdm(val)]"
   ]
  },
  {
   "cell_type": "code",
   "execution_count": 70,
   "id": "9fd148e7",
   "metadata": {},
   "outputs": [
    {
     "name": "stdout",
     "output_type": "stream",
     "text": [
      "0.8613636363636363\n",
      "0.8356666336958218\n"
     ]
    }
   ],
   "source": [
    "lr_bpr = LogisticRegression(C=1, fit_intercept=True)\n",
    "lr_bpr.fit([[x] for x in train_X_bpr], train_y)\n",
    "print(lr_bpr.score([[x] for x in train_X_bpr], train_y))\n",
    "print(lr_bpr.score([[x] for x in val_X_bpr], val_y))"
   ]
  },
  {
   "cell_type": "code",
   "execution_count": 71,
   "id": "0917104e",
   "metadata": {},
   "outputs": [
    {
     "data": {
      "text/plain": [
       "[6.638426,\n",
       " 6.8270526,\n",
       " 5.2530336,\n",
       " 6.437763,\n",
       " 6.638426,\n",
       " 7.374193,\n",
       " 6.437763,\n",
       " 6.452118,\n",
       " 5.2530336,\n",
       " 7.374193]"
      ]
     },
     "execution_count": 71,
     "metadata": {},
     "output_type": "execute_result"
    }
   ],
   "source": [
    "train_X_bpr[:10]"
   ]
  },
  {
   "cell_type": "markdown",
   "id": "f4907b3a",
   "metadata": {},
   "source": [
    "### Save Results"
   ]
  },
  {
   "cell_type": "code",
   "execution_count": 17,
   "id": "08ada1e2",
   "metadata": {},
   "outputs": [
    {
     "data": {
      "text/plain": [
       "'1,33827518864,lirik,25,26,25,0,26,0,1'"
      ]
     },
     "execution_count": 17,
     "metadata": {},
     "output_type": "execute_result"
    }
   ],
   "source": [
    "','.join(['{}' for _ in range(len(header))]).format(*train[0].values())"
   ]
  },
  {
   "cell_type": "code",
   "execution_count": 24,
   "id": "2534fc66",
   "metadata": {},
   "outputs": [
    {
     "data": {
      "text/plain": [
       "['user',\n",
       " 'stream',\n",
       " 'streamer',\n",
       " 'time_start',\n",
       " 'time_stop',\n",
       " 'time_start_in_day',\n",
       " 'time_start_at_day',\n",
       " 'time_stop_in_day',\n",
       " 'time_stop_at_day',\n",
       " 'watched']"
      ]
     },
     "execution_count": 24,
     "metadata": {},
     "output_type": "execute_result"
    }
   ],
   "source": [
    "header = list(train[0].keys())\n",
    "header"
   ]
  },
  {
   "cell_type": "code",
   "execution_count": 25,
   "id": "2c037fd1",
   "metadata": {},
   "outputs": [
    {
     "data": {
      "text/plain": [
       "'user,stream,streamer,time_start,time_stop,time_start_in_day,time_start_at_day,time_stop_in_day,time_stop_at_day,watched\\n'"
      ]
     },
     "execution_count": 25,
     "metadata": {},
     "output_type": "execute_result"
    }
   ],
   "source": [
    "','.join(header)+ '\\n'"
   ]
  },
  {
   "cell_type": "code",
   "execution_count": 58,
   "id": "91b4f065",
   "metadata": {},
   "outputs": [
    {
     "data": {
      "text/plain": [
       "'0,31\\n'"
      ]
     },
     "execution_count": 58,
     "metadata": {},
     "output_type": "execute_result"
    }
   ],
   "source": [
    "'{},{}\\n'.format(*train_X_t[0])"
   ]
  },
  {
   "cell_type": "code",
   "execution_count": 73,
   "id": "a35663d1",
   "metadata": {},
   "outputs": [
    {
     "data": {
      "application/vnd.jupyter.widget-view+json": {
       "model_id": "a2900646b3594af49d8377aa4175a62f",
       "version_major": 2,
       "version_minor": 0
      },
      "text/plain": [
       "  0%|          | 0/4893212 [00:00<?, ?it/s]"
      ]
     },
     "metadata": {},
     "output_type": "display_data"
    }
   ],
   "source": [
    "with open('data/val_X_bpr.txt', 'w') as f:\n",
    "    f.write('bpr_score\\n')\n",
    "    for d in tqdm(val_X_bpr):\n",
    "        f.write('{}\\n'.format(d))"
   ]
  },
  {
   "cell_type": "code",
   "execution_count": 75,
   "id": "de5e880f",
   "metadata": {},
   "outputs": [],
   "source": [
    "with open('data/val_streams.json', 'w') as f:\n",
    "    json.dump(val_streams, f, indent=4, sort_keys=False)"
   ]
  },
  {
   "cell_type": "code",
   "execution_count": null,
   "id": "bde4f5c9",
   "metadata": {},
   "outputs": [],
   "source": []
  }
 ],
 "metadata": {
  "kernelspec": {
   "display_name": "Python 3",
   "language": "python",
   "name": "python3"
  },
  "language_info": {
   "codemirror_mode": {
    "name": "ipython",
    "version": 3
   },
   "file_extension": ".py",
   "mimetype": "text/x-python",
   "name": "python",
   "nbconvert_exporter": "python",
   "pygments_lexer": "ipython3",
   "version": "3.8.8"
  }
 },
 "nbformat": 4,
 "nbformat_minor": 5
}
